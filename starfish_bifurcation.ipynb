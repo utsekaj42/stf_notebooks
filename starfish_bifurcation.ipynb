{
 "cells": [
  {
   "cell_type": "markdown",
   "metadata": {},
   "source": [
    "# [Starfish](http://www.ntnu.no/starfish)\n",
    "\n",
    "A python application for the simulation and vizualization of 1d arterial networks. Capabilities include coupling with a wide variety of boundary conditions, usage of a number of material models for the arterial compliance, and stochastic simulation accounting for uncertainty in any model parameters.\n",
    "\n",
    "## Publications\n",
    "\n",
    "Eck, V. G., et al. \"Stochastic sensitivity analysis for timing and amplitude of pressure waves in the arterial system.\" International journal for numerical methods in biomedical engineering 31.4 (2015). <http://onlinelibrary.wiley.com/doi/10.1002/cnm.2711/full>\n",
    "\n",
    "Eck, V. G., J. Sturdy, and L. R. Hellevik. \"Effects of arterial wall models and measurement uncertainties on cardiovascular model predictions.\" Journal of biomechanics 50 (2017): 188-194. <http://www.sciencedirect.com/science/article/pii/S0021929016312210>\n",
    "\n",
    "Eck, Vinzenz Gregor, et al. \"A guide to uncertainty quantification and sensitivity analysis for cardiovascular applications.\" International journal for numerical methods in biomedical engineering 32.8 (2016). <http://onlinelibrary.wiley.com/doi/10.1002/cnm.2755/full>\n",
    "\n",
    "Boileau, Etienne, et al. \"A benchmark study of numerical schemes for one‐dimensional arterial blood flow modelling.\" International journal for numerical methods in biomedical engineering 31.10 (2015). <http://onlinelibrary.wiley.com/doi/10.1002/cnm.2732/full>\n",
    "\n",
    "## Outline of this tutorial\n",
    "\n",
    "1. We will construct a simple bifurcating arterial network with a windkessel boundary condition\n",
    "2. We will simulate this network and look at the pressure, flow and area of the vessel\n",
    "3. We will vary geometrical and material parameters and plot the effects\n",
    "4. We will uncertain parameters and evaluate the uncertainty and sensitivity of pressure, flow and area"
   ]
  },
  {
   "cell_type": "code",
   "execution_count": null,
   "metadata": {},
   "outputs": [],
   "source": [
    "%matplotlib notebook\n",
    "%load_ext autoreload\n",
    "%autoreload 2"
   ]
  },
  {
   "cell_type": "code",
   "execution_count": null,
   "metadata": {},
   "outputs": [],
   "source": [
    "import matplotlib.pyplot as plt"
   ]
  },
  {
   "cell_type": "code",
   "execution_count": null,
   "metadata": {},
   "outputs": [],
   "source": [
    "# In the real world\n",
    "# 1. run singleVesselUQSA.xml with standard simulator?\n",
    "# 2. run VascularPolynomialChaos.py  on the singleVesselUQSA.xml to produce vpcCase\n",
    "# 3. run VascularPolynomialChaos.py on the resulting vpc.xml to evaluate all\n",
    "import sys, os\n",
    "import shutil\n",
    "import numpy as np\n",
    "import math\n",
    "import starfish.UtilityLib.moduleFilePathHandler as mFPH\n",
    "import starfish.UtilityLib.moduleXML as mXML\n",
    "import starfish.NetworkLib.classVascularNetwork as cVN\n",
    "import starfish.NetworkLib.classBoundaryConditions as cBC\n",
    "import starfish.SolverLib.class1DflowSolver as c1dFS"
   ]
  },
  {
   "cell_type": "code",
   "execution_count": null,
   "metadata": {},
   "outputs": [],
   "source": [
    "import os\n",
    "working_dir = os.path.expanduser('~/starfish_wd')\n",
    "os.mkdir(working_dir)\n",
    "mFPH.insertWorkingDirectory(working_dir) # Set directory for storing simulation results"
   ]
  },
  {
   "cell_type": "code",
   "execution_count": null,
   "metadata": {},
   "outputs": [],
   "source": [
    "# STARFISH works in (m-kg-s) system so all volumes should be in m^3 and all pressures in Pa.\n",
    "# The following conversion factors may be useful\n",
    "unit_mmhg_pa = 133.3\n",
    "unit_pa_mmhg = unit_mmhg_pa**(-1)\n",
    "unit_cm_m= 1. / 100.\n",
    "unit_m_cm = unit_cm_m**(-1)\n",
    "unit_m2_cm2 = unit_m_cm**2\n",
    "unit_cm2_m2 = unit_cm_m**2"
   ]
  },
  {
   "cell_type": "code",
   "execution_count": null,
   "metadata": {},
   "outputs": [],
   "source": [
    "vascularNetwork = cVN.VascularNetwork()"
   ]
  },
  {
   "cell_type": "code",
   "execution_count": null,
   "metadata": {},
   "outputs": [],
   "source": [
    "vesselId = 1\n",
    "vascularNetwork.addVessel(vesselId)\n",
    "vessel = vascularNetwork.vessels[vesselId]"
   ]
  },
  {
   "cell_type": "code",
   "execution_count": null,
   "metadata": {},
   "outputs": [],
   "source": [
    "vessel.geometryType = 'cone'\n",
    "vessel.length = 0.1\n",
    "vessel.radiusDistal = (2.0/2*1e-2) # This is not used by uniform\n",
    "vessel.radiusProximal =(2.5/2*1e-2)"
   ]
  },
  {
   "cell_type": "code",
   "execution_count": null,
   "metadata": {},
   "outputs": [],
   "source": [
    "vessel.complianceType = \"Hayashi\"\n",
    "#vessel.constantCompliance = False\n",
    "#vessel.externalPressure = 0.0\n",
    "vessel.betaHayashi = 3.67 # Approximate value for a human aorta\n",
    "vessel.As = None # Use Reference area \n",
    "vessel.Ps = 100*133.32# Reference Pressure at area As\n",
    "vessel.N = 10"
   ]
  },
  {
   "cell_type": "code",
   "execution_count": null,
   "metadata": {},
   "outputs": [],
   "source": [
    "inlet = cBC.PhysiologicalFunction()"
   ]
  },
  {
   "cell_type": "code",
   "execution_count": null,
   "metadata": {},
   "outputs": [],
   "source": [
    "#inlet = cBC.Sinus2()\n",
    "inlet = cBC.PhysiologicalFunction()\n",
    "inlet.name = \"Flow-PhysiologicalFunction\" # Necessary to set as an inflow boundary condition\n",
    "inlet.prescribe = \"influx\"\n",
    "inlet.amp = 500*unit_cm_m**3\n",
    "inlet.ampConst = 0*unit_cm_m**3\n",
    "inlet.freq = 0.75\n",
    "inlet.Tpulse = 0.0\n",
    "inlet.Tspace =0.0\n",
    "inlet.Npulse =10"
   ]
  },
  {
   "cell_type": "code",
   "execution_count": null,
   "metadata": {},
   "outputs": [],
   "source": [
    "vascularNetwork.boundaryConditions[vessel.Id]=[inlet]"
   ]
  },
  {
   "cell_type": "code",
   "execution_count": null,
   "metadata": {},
   "outputs": [],
   "source": [
    "vessel.leftDaughter = 2\n",
    "vessel.rightDaughter = 3"
   ]
  },
  {
   "cell_type": "code",
   "execution_count": null,
   "metadata": {},
   "outputs": [],
   "source": [
    "vesselId = 2\n",
    "vascularNetwork.addVessel(vesselId)\n",
    "vessel = vascularNetwork.vessels[vesselId]\n",
    "vessel.leftMother = 1\n",
    "vessel.geometryType = 'cone'\n",
    "vessel.length = 0.1\n",
    "vessel.radiusDistal = (1.0*unit_cm_m/2) # This is not used by uniform\n",
    "vessel.radiusProximal =(1.25*unit_cm_m/2)\n",
    "vessel.complianceType = \"Hayashi\"\n",
    "#vessel.constantCompliance = False\n",
    "#vessel.externalPressure = 0.0\n",
    "vessel.betaHayashi = 3.67*1.5 # Approximate value for a human aorta\n",
    "vessel.As = None # Use Reference area \n",
    "vessel.Ps = 100*133.32# Reference Pressure at area As\n",
    "vessel.N = 10\n",
    "\n",
    "outlet = cBC.Windkessel3()\n",
    "outlet.name = \"Windkessel-3Elements\"\n",
    "outlet.Rtotal  = 0.5*unit_mmhg_pa/unit_cm_m**3\n",
    "outlet.C = 1*unit_cm_m**3/unit_mmhg_pa\n",
    "outlet.Z = 0.01*unit_mmhg_pa/unit_cm_m**3\n",
    "vascularNetwork.boundaryConditions[vessel.Id]=[outlet]"
   ]
  },
  {
   "cell_type": "markdown",
   "metadata": {},
   "source": [
    "Add Right daughter"
   ]
  },
  {
   "cell_type": "code",
   "execution_count": null,
   "metadata": {},
   "outputs": [],
   "source": [
    "vesselId = 3\n",
    "vascularNetwork.addVessel(vesselId)\n",
    "vessel = vascularNetwork.vessels[vesselId]\n",
    "vessel.leftMother = 1\n",
    "vessel.geometryType = 'cone'\n",
    "vessel.length = 0.1\n",
    "vessel.radiusDistal = (1.0*unit_cm_m/2) # This is not used by uniform\n",
    "vessel.radiusProximal =(1.25*unit_cm_m/2)\n",
    "vessel.complianceType = \"Hayashi\"\n",
    "#vessel.constantCompliance = False\n",
    "#vessel.externalPressure = 0.0\n",
    "vessel.betaHayashi = 3.67*1.5 # Approximate value for a human aorta\n",
    "vessel.As = None # Use Reference area \n",
    "vessel.Ps = 100*133.32# Reference Pressure at area As\n",
    "vessel.N = 10\n",
    "\n",
    "outlet = cBC.Windkessel3()\n",
    "outlet.name = \"Windkessel-3Elements\"\n",
    "outlet.Rtotal  = 0.5*unit_mmhg_pa/unit_cm_m**3\n",
    "outlet.C = 1*unit_cm_m**3/unit_mmhg_pa\n",
    "outlet.Z = 0.01*unit_mmhg_pa/unit_cm_m**3\n",
    "vascularNetwork.boundaryConditions[vessel.Id]=[outlet]"
   ]
  },
  {
   "cell_type": "code",
   "execution_count": null,
   "metadata": {},
   "outputs": [],
   "source": []
  },
  {
   "cell_type": "code",
   "execution_count": null,
   "metadata": {},
   "outputs": [],
   "source": []
  },
  {
   "cell_type": "code",
   "execution_count": null,
   "metadata": {},
   "outputs": [],
   "source": [
    "# Save network\n",
    "networkName = \"tutorial_bif\"\n",
    "vascularNetwork.name = networkName\n",
    "vascularNetwork.description=''\n",
    "mXML.writeNetworkToXML(vascularNetwork)"
   ]
  },
  {
   "cell_type": "code",
   "execution_count": null,
   "metadata": {},
   "outputs": [],
   "source": [
    "# Run a specific instance of this network\n",
    "dataNumber = \"000\"\n",
    "vascularNetwork = mXML.loadNetworkFromXML(networkName, dataNumber='xxx') # dataNumber 'xxx' indicates the default network for the networkName\n",
    "vascularNetwork.dataNumber = dataNumber\n",
    "vascularNetwork.description=''\n",
    "vascularNetwork.totalTime=10.0\n",
    "vascularNetwork.initialsationMethod = \"ConstantPressure\"\n",
    "vascularNetwork.initMeanPressure = 75*unit_mmhg_pa\n",
    "vascularNetwork.timeSaveEnd = vascularNetwork.totalTime\n",
    "flowSolver = c1dFS.FlowSolver(vascularNetwork, quiet=True)\n",
    "flowSolver.solve()\n",
    "vascularNetwork.saveSolutionData()\n",
    "mXML.writeNetworkToXML(vascularNetwork) # Save specific solution XML\n",
    "del flowSolver #allow python to clean up solver memory"
   ]
  },
  {
   "cell_type": "code",
   "execution_count": null,
   "metadata": {},
   "outputs": [],
   "source": [
    "vascularNetwork.simulationTime[1:].shape\n",
    "steps_per_sec = int(vascularNetwork.simulationTime[1:].shape[0]//vascularNetwork.totalTime)\n",
    "steps_between = int(steps_per_sec//10)"
   ]
  },
  {
   "cell_type": "code",
   "execution_count": null,
   "metadata": {},
   "outputs": [],
   "source": [
    "# Plot some results\n",
    "vessel =vascularNetwork.vessels[1]\n",
    "\n",
    "fig, Fax = plt.subplots(1,1)\n",
    "Fax.plot(vascularNetwork.simulationTime[1:], vessel.Qsol[1:,0]*1e6)\n",
    "\n",
    "fig, Fax_z = plt.subplots(1,1)\n",
    "lines = Fax_z.plot(vessel.z, vessel.Qsol[1:steps_per_sec:steps_between,:].T*1e6)\n",
    "#Fax_z.plot(vessel.z, vessel.Qsol[20,:]*1e6)\n",
    "Fax_z.set_ylabel(\"Flow\")\n",
    "Fax_z.set_xlabel(\"Position\")\n",
    "Fax_z.legend(lines, [\"{:.2f}\".format(tval) for tval in vascularNetwork.simulationTime[1:steps_per_sec:steps_between]])\n",
    "#plt.ylabel(\"Flow\")\n",
    "\n",
    "fig, Pax = plt.subplots(1,1)\n",
    "Pax.plot(vascularNetwork.simulationTime[1:], vessel.Psol[1:,8]/133.32)\n",
    "Pax.plot(vascularNetwork.simulationTime[1:], vessel.Psol[1:,0]/133.32)\n",
    "#plt.ylabel(\"Pressure\")"
   ]
  },
  {
   "cell_type": "markdown",
   "metadata": {},
   "source": [
    "# [ST]ochastic [AR]terial blood [Flow] s[I]mulation[S] [h] \n",
    "\n",
    "The h is silent"
   ]
  },
  {
   "cell_type": "code",
   "execution_count": null,
   "metadata": {},
   "outputs": [],
   "source": [
    "import starfish.VascularPolynomialChaosLib.moduleFilePathHandlerVPC as mFPH_VPC\n",
    "# Manages the file paths of the individual simulations and results withing the starfish working directory\n",
    "import starfish.VascularPolynomialChaosLib.classUqsaCase as cUqsaCase\n",
    "# Top level object configuring the UQSA it has the following subcomponents of importance\n",
    "import starfish.VascularPolynomialChaosLib.classSampleManager as cSM\n",
    "# Specifies and manages the sampling method to be used\n",
    "import starfish.VascularPolynomialChaosLib.classRandomInputManager as cRIM\n",
    "# Handles the random inputs and their dependence structure if specified\n",
    "import starfish.VascularPolynomialChaosLib.classUqsaMethods as cUQM\n",
    "# Manages the methods of UQSA to evaulate\n",
    "import starfish.VascularPolynomialChaosLib.classLocationOfInterestManager as cLOIM \n",
    "# Tracks the various locations in the network where UQSA should be done"
   ]
  },
  {
   "cell_type": "code",
   "execution_count": null,
   "metadata": {},
   "outputs": [],
   "source": [
    "polychaos_method = cUQM.UqsaMethodPolynomialChaos()\n",
    "polychaos_method.polynomialOrder = 3\n",
    "polychaos_method.sampleFactor = 2"
   ]
  },
  {
   "cell_type": "code",
   "execution_count": null,
   "metadata": {},
   "outputs": [],
   "source": [
    "loi_manager = cLOIM.LocationOfInterestManager()\n",
    "locationId = \"vessel_1\"\n",
    "locationName = \"root\"\n",
    "quantitiesOfInterestToProcess = [\"Pressure\", \"Flow\"]\n",
    "xVal = 8*unit_cm_m\n",
    "confidenceAlpha = 5\n",
    "loi_manager.addLocationOfInterest(locationId, locationName,\n",
    "                                  quantitiesOfInterestToProcess, xVal, confidenceAlpha)"
   ]
  },
  {
   "cell_type": "code",
   "execution_count": null,
   "metadata": {},
   "outputs": [],
   "source": [
    "rim = vascularNetwork.randomInputManager\n",
    "rim = vascularNetwork.randomInputManager = cRIM.RandomInputManager()"
   ]
  },
  {
   "cell_type": "code",
   "execution_count": null,
   "metadata": {},
   "outputs": [],
   "source": [
    "uqsaCaseFile = mFPH_VPC.getFilePath('uqsaCaseXmlFile', networkName, dataNumber, 'write') # Creates path\n",
    "uqsaCase = cUqsaCase.UqsaCase() \n",
    "if False and os.path.exists(uqsaCaseFile):\n",
    "    uqsaCase.loadXMLFile(uqsaCaseFile)\n",
    "    print(uqsaCase.uqsaMethods)\n",
    "else:\n",
    "    # 1. specify random variables\n",
    "    rim = vascularNetwork.randomInputManager = cRIM.RandomInputManager()\n",
    "    pct_unc = 0.05\n",
    "    b = pct_unc*vessel.radiusProximal \n",
    "    a = vessel.radiusProximal - b/2\n",
    "    rvType = \"Uniform\"\n",
    "    parameter = \"vessel_1_radiusProximal\"\n",
    "    rim.addRandomInput(\"Z1\", a, b, rvType, parameter)\n",
    "\n",
    "    pct_unc = 0.05\n",
    "    b = pct_unc*vessel.betaHayashi \n",
    "    a = vessel.betaHayashi - b/2 # Center the RV on the baseline value\n",
    "    rvType = \"Uniform\"\n",
    "    parameter = \"vessel_1_betaHayashi\"\n",
    "    rim.addRandomInput(\"Z2\", a, b, rvType, parameter)\n",
    "\n",
    "    sample_manager = uqsaCase.sampleManager = cSM.SampleManager()\n",
    "    sample_manager.dependentCase = False\n",
    "    sample_manager.samplingMethod = \"S\"\n",
    "\n",
    "    # 2. specify quantities of interest\n",
    "    uqsaCase.locationOfInterestManager = loi_manager = cLOIM.LocationOfInterestManager()\n",
    "    locationId = \"vessel_1\"\n",
    "    locationName = \"root\"\n",
    "    quantitiesOfInterestToProcess = [\"Pressure\", \"Flow\"]\n",
    "    xVal = 8*unit_cm_m\n",
    "    confidenceAlpha = 5\n",
    "    loi_manager.addLocationOfInterest(locationId, locationName,\n",
    "                                      quantitiesOfInterestToProcess, xVal, confidenceAlpha)\n",
    "\n",
    "    # 3. specify uqsa methods\n",
    "    #     3.a gpc order, number of samples, sampling method\n",
    "\n",
    "    polychaos_method = cUQM.UqsaMethodPolynomialChaos()\n",
    "    polychaos_method.polynomialOrder = 3\n",
    "    polychaos_method.sampleFactor = 2\n",
    "    uqsaCase.uqsaMethods ={\"PC-3\":polychaos_method}\n",
    "\n",
    "    # 4.\n",
    "    uqsaCase.initialize(networkName,dataNumber)\n",
    "    uqsaCase.simulateEvaluations = True\n",
    "    uqsaCase.locationOfInterestManager.evaluateSimulationTime = True\n",
    "    uqsaCase.multiprocessing = True\n",
    "    # 5. save the configuration file to the starfish database\n",
    "    configurationFilePath = mFPH_VPC.getFilePath('uqsaCaseXmlFile', networkName, dataNumber, 'write')\n",
    "    uqsaCase.writeXMLFile(configurationFilePath)"
   ]
  },
  {
   "cell_type": "code",
   "execution_count": null,
   "metadata": {},
   "outputs": [],
   "source": []
  },
  {
   "cell_type": "code",
   "execution_count": null,
   "metadata": {},
   "outputs": [],
   "source": [
    "import starfish.VascularPolynomialChaos as vpc\n",
    "vpc.run_uqsa_case(uqsaCase, vascularNetwork=vascularNetwork)"
   ]
  },
  {
   "cell_type": "markdown",
   "metadata": {},
   "source": [
    "## UQSA Results"
   ]
  },
  {
   "cell_type": "code",
   "execution_count": null,
   "metadata": {},
   "outputs": [],
   "source": [
    "loi = uqsaCase.locationOfInterestManager.locationsOfInterest['root']"
   ]
  },
  {
   "cell_type": "code",
   "execution_count": null,
   "metadata": {},
   "outputs": [],
   "source": [
    "qoi = loi.quantitiesOfInterest['Flow']"
   ]
  },
  {
   "cell_type": "code",
   "execution_count": null,
   "metadata": {},
   "outputs": [],
   "source": [
    "qoi.simulationTime"
   ]
  },
  {
   "cell_type": "code",
   "execution_count": null,
   "metadata": {},
   "outputs": [],
   "source": [
    "t = uqsaCase.locationOfInterestManager.simulationTime"
   ]
  },
  {
   "cell_type": "code",
   "execution_count": null,
   "metadata": {},
   "outputs": [],
   "source": [
    "flow = loi.quantitiesOfInterest['Flow']\n",
    "flow_uq = flow.uqsaMeasures['PC-3']\n",
    "plt.figure()\n",
    "plt.plot(flow.simulationTime,  unit_m_cm**(3)*flow_uq.expectedValue)\n",
    "_ = plt.fill_between(flow.simulationTime, unit_m_cm**(3)*flow_uq.confidenceInterval[0],\n",
    "                     unit_m_cm**(3)*flow_uq.confidenceInterval[1], alpha=.5)"
   ]
  },
  {
   "cell_type": "code",
   "execution_count": null,
   "metadata": {},
   "outputs": [],
   "source": [
    "pressure = loi.quantitiesOfInterest['Pressure']\n",
    "pressure_uq = pressure.uqsaMeasures['PC-3']\n",
    "plt.figure()\n",
    "plt.plot(pressure.simulationTime,  unit_pa_mmhg*pressure_uq.expectedValue)\n",
    "_ = plt.fill_between(pressure.simulationTime, unit_pa_mmhg*pressure_uq.confidenceInterval[0],  unit_pa_mmhg*pressure_uq.confidenceInterval[1], alpha=.5)"
   ]
  }
 ],
 "metadata": {
  "anaconda-cloud": {},
  "kernelspec": {
   "display_name": "Python [conda env:starfish36]",
   "language": "python",
   "name": "conda-env-starfish36-py"
  },
  "language_info": {
   "codemirror_mode": {
    "name": "ipython",
    "version": 3
   },
   "file_extension": ".py",
   "mimetype": "text/x-python",
   "name": "python",
   "nbconvert_exporter": "python",
   "pygments_lexer": "ipython3",
   "version": "3.6.1"
  }
 },
 "nbformat": 4,
 "nbformat_minor": 1
}
