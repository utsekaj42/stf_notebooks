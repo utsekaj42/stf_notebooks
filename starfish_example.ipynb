{
 "cells": [
  {
   "cell_type": "code",
   "execution_count": null,
   "metadata": {},
   "outputs": [],
   "source": [
    "%matplotlib inline\n",
    "%load_ext autoreload\n",
    "%autoreload 2"
   ]
  },
  {
   "cell_type": "code",
   "execution_count": null,
   "metadata": {},
   "outputs": [],
   "source": [
    "import matplotlib.pyplot as plt"
   ]
  },
  {
   "cell_type": "code",
   "execution_count": null,
   "metadata": {},
   "outputs": [],
   "source": [
    "# In the real world\n",
    "# 1. run singleVesselUQSA.xml with standard simulator?\n",
    "# 2. run VascularPolynomialChaos.py  on the singleVesselUQSA.xml to produce vpcCase\n",
    "# 3. run VascularPolynomialChaos.py on the resulting vpc.xml to evaluate all\n",
    "\n",
    "import sys, os\n",
    "import shutil\n",
    "import numpy as np\n",
    "import math\n",
    "import starfish.UtilityLib.moduleFilePathHandler as mFPH\n",
    "import starfish.UtilityLib.moduleXML as mXML\n",
    "import starfish.VascularPolynomialChaosLib.classDistributionManager as cDistMng\n",
    "import starfish.VascularPolynomialChaosLib.moduleFilePathHandlerVPC as mFPH_VPC\n",
    "import starfish.VascularPolynomialChaosLib.moduleBatchSimulationManager as mBSM\n",
    "import starfish.VascularPolynomialChaosLib.classUqsaCase as cUqsaCase\n",
    "import starfish.VascularPolynomialChaosLib.classRandomInput as cRI"
   ]
  },
  {
   "cell_type": "code",
   "execution_count": null,
   "metadata": {},
   "outputs": [],
   "source": [
    "networkName = \"singleVesselUQSA\"\n",
    "dataNumber = \"exm\"\n",
    "\n",
    "# create template configuration\n",
    "configurationFilePathTemplate = mFPH_VPC.getFilePath('uqsaCaseTemplateFile', networkName, dataNumber, 'read')\n",
    "uqsaCase = cUqsaCase.UqsaCase()\n",
    "uqsaCase.loadXMLFile(configurationFilePathTemplate)\n",
    "\n",
    "# TODO: check if file exits and ask if it should be overwritten        \n",
    "uqsaCaseFile = mFPH_VPC.getFilePath('uqsaCaseXmlFile', networkName, dataNumber, 'write')\n",
    "uqsaCase.writeXMLFile(uqsaCaseFile)\n",
    "# copy network file\n",
    "toCopyFile = mFPH.getFilePath('networkXmlFile', networkName, 'xxx','write')\n",
    "destinationFile = mFPH_VPC.getFilePath('vpcNetworkXmlFile', networkName, dataNumber,'write')\n",
    "shutil.copy(toCopyFile, destinationFile)"
   ]
  },
  {
   "cell_type": "code",
   "execution_count": null,
   "metadata": {},
   "outputs": [],
   "source": [
    "\n",
    "networkName = \"singleBifurcation_template\"\n",
    "dataNumber = \"exm\""
   ]
  },
  {
   "cell_type": "code",
   "execution_count": null,
   "metadata": {},
   "outputs": [],
   "source": [
    "uqsaCase = cUqsaCase.UqsaCase() \n",
    "uqsaCase.loadXMLFile(uqsaCaseFile)\n",
    "uqsaCase.initialize(networkName,dataNumber)"
   ]
  },
  {
   "cell_type": "code",
   "execution_count": null,
   "metadata": {},
   "outputs": [],
   "source": [
    "loi = uqsaCase.locationOfInterestManager.locationsOfInterest['exampleLocation']"
   ]
  },
  {
   "cell_type": "code",
   "execution_count": null,
   "metadata": {},
   "outputs": [],
   "source": [
    "loi.queryLocation"
   ]
  },
  {
   "cell_type": "code",
   "execution_count": null,
   "metadata": {},
   "outputs": [],
   "source": [
    "qoi = loi.quantitiesOfInterest['Flow']"
   ]
  },
  {
   "cell_type": "code",
   "execution_count": null,
   "metadata": {},
   "outputs": [],
   "source": [
    "vpcNetworkXmlFile = mFPH_VPC.getFilePath('vpcNetworkXmlFile', networkName, dataNumber, 'write')\n",
    "vascularNetwork = mXML.loadNetworkFromXML(networkName, dataNumber, networkXmlFile = vpcNetworkXmlFile)\n",
    "# TODO: steps 1.1 and 1.2 should be entirely external to the UQSA core\n",
    "    "
   ]
  },
  {
   "cell_type": "code",
   "execution_count": null,
   "metadata": {},
   "outputs": [],
   "source": [
    "vascularNetwork = mXML.loadNetworkFromXML(networkName, 'xxx')"
   ]
  },
  {
   "cell_type": "code",
   "execution_count": null,
   "metadata": {},
   "outputs": [],
   "source": [
    "vascularNetwork.boundaryConditions[0][0]"
   ]
  },
  {
   "cell_type": "code",
   "execution_count": null,
   "metadata": {},
   "outputs": [],
   "source": [
    "import starfish.SolverLib.class1DflowSolver as c1dFS\n",
    "flowSolver = c1dFS.FlowSolver(vascularNetwork, quiet=True)\n",
    "flowSolver.solve()"
   ]
  },
  {
   "cell_type": "code",
   "execution_count": null,
   "metadata": {},
   "outputs": [],
   "source": [
    "vessel =vascularNetwork.vessels[1]\n",
    "plt.figure()\n",
    "plt.plot(vascularNetwork.simulationTime[1:], vessel.Qsol[1:,30]*1e6)\n",
    "plt.plot(vascularNetwork.simulationTime[1:], vessel.Qsol[1:,20]*1e6)\n",
    "plt.ylabel(\"Flow\")\n",
    "\n",
    "plt.figure()\n",
    "plt.plot(vascularNetwork.simulationTime[1:], vessel.Psol[1:,30]/133.32)\n",
    "plt.plot(vascularNetwork.simulationTime[1:], vessel.Psol[1:,20]/133.32)\n",
    "plt.ylabel(\"Pressure\")\n",
    "plt.show()"
   ]
  },
  {
   "cell_type": "code",
   "execution_count": null,
   "metadata": {},
   "outputs": [],
   "source": [
    "rim = vascularNetwork.randomInputManager\n"
   ]
  },
  {
   "cell_type": "code",
   "execution_count": null,
   "metadata": {},
   "outputs": [],
   "source": [
    "vessel = vascularNetwork.vessels[1]\n",
    "vessel.A0"
   ]
  },
  {
   "cell_type": "code",
   "execution_count": null,
   "metadata": {},
   "outputs": [],
   "source": [
    "vessel.initialize(vascularNetwork.globalFluid)"
   ]
  },
  {
   "cell_type": "code",
   "execution_count": null,
   "metadata": {},
   "outputs": [],
   "source": [
    "vessel.As"
   ]
  },
  {
   "cell_type": "code",
   "execution_count": null,
   "metadata": {},
   "outputs": [],
   "source": [
    "# Create a random input\n",
    "Z = cRI.ParametricRandomInput()\n",
    "Z.a = vessel.As\n",
    "pct_unc = 0.05\n",
    "Z.b = pct_unc*vessel.As\n",
    "Z.distributionType = 'Uniform'\n",
    "Z.parameter = \"vessel_1_As\""
   ]
  },
  {
   "cell_type": "code",
   "execution_count": null,
   "metadata": {},
   "outputs": [],
   "source": [
    "rim.randomInputs['Z3']=Z"
   ]
  },
  {
   "cell_type": "code",
   "execution_count": null,
   "metadata": {},
   "outputs": [],
   "source": [
    "rim.printOutInfo()"
   ]
  },
  {
   "cell_type": "code",
   "execution_count": null,
   "metadata": {},
   "outputs": [],
   "source": [
    "vascularNetwork.initialize()\n",
    "vascularNetwork.vessels"
   ]
  },
  {
   "cell_type": "code",
   "execution_count": null,
   "metadata": {},
   "outputs": [],
   "source": [
    "# Save changes\n",
    "uqsaCase.writeXMLFile(uqsaCaseFile)\n",
    "mXML.writeNetworkToXML(vascularNetwork, dataNumber=dataNumber, networkXmlFile=vpcNetworkXmlFile)\n",
    "#vascularNetwork.writeXMLFile(vpcNetworkXmlFile)"
   ]
  },
  {
   "cell_type": "code",
   "execution_count": null,
   "metadata": {},
   "outputs": [],
   "source": [
    "uqsaCase = cUqsaCase.UqsaCase() \n",
    "uqsaCase.loadXMLFile(uqsaCaseFile)\n",
    "uqsaCase.initialize(networkName,dataNumber)\n",
    "\n",
    "\n",
    "vpcNetworkXmlFileSol = os.path.join(*[\".\", \"singleVesselUQSA\", \"vascularPolynomialChaos_tst\",  \"singleVesselUQSA_vpc_tst.xml\"])\n",
    "vpcNetworkXmlFile = mFPH_VPC.getFilePath('vpcNetworkXmlFile', networkName, dataNumber, 'write')\n",
    "if not os.path.exists(os.path.split(vpcNetworkXmlFileSol)[0]):\n",
    "    os.makedirs(os.path.split(vpcNetworkXmlFileSol)[0])\n",
    "shutil.copy(vpcNetworkXmlFileSol, vpcNetworkXmlFile)\n",
    "\n",
    "# 1.2 load vascular network file polynomial chaos\n",
    "vpcNetworkXmlFileSol = os.path.join(*[\".\", \"singleVesselUQSA\", \"vascularPolynomialChaos_tst\",  \"singleVesselUQSA_vpc_tst.xml\"])\n",
    "vpcNetworkXmlFile = mFPH_VPC.getFilePath('vpcNetworkXmlFile', networkName, dataNumber, 'write')\n",
    "if not os.path.exists(os.path.split(vpcNetworkXmlFileSol)[0]):\n",
    "    os.makedirs(os.path.split(vpcNetworkXmlFileSol)[0])\n",
    "shutil.copy(vpcNetworkXmlFileSol, vpcNetworkXmlFile)\n",
    "\n",
    "vascularNetwork = mXML.loadNetworkFromXML(networkName, dataNumber, networkXmlFile = vpcNetworkXmlFile)\n",
    "# TODO: steps 1.1 and 1.2 should be entirely external to the UQSA core\n",
    "\n",
    "# 1.3 initialized defined random inputs\n",
    "vascularNetwork.randomInputManager.initialize(vascularNetwork)\n"
   ]
  },
  {
   "cell_type": "code",
   "execution_count": null,
   "metadata": {},
   "outputs": [],
   "source": []
  }
 ],
 "metadata": {
  "anaconda-cloud": {},
  "kernelspec": {
   "display_name": "Python [conda env:starfish27]",
   "language": "python",
   "name": "conda-env-starfish27-py"
  },
  "language_info": {
   "codemirror_mode": {
    "name": "ipython",
    "version": 2
   },
   "file_extension": ".py",
   "mimetype": "text/x-python",
   "name": "python",
   "nbconvert_exporter": "python",
   "pygments_lexer": "ipython2",
   "version": "2.7.13"
  }
 },
 "nbformat": 4,
 "nbformat_minor": 1
}
